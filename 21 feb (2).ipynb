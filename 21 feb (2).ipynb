{
 "cells": [
  {
   "cell_type": "raw",
   "id": "204fdaed-9ce8-4d5c-a584-b2240166f2fd",
   "metadata": {},
   "source": [
    "# Q1. What is Web Scraping? Why is it Used? Give three areas where Web Scraping is used to get data.\n",
    "\n",
    "\n",
    "# Data scraping is commonly used to: Collect business intelligence to inform web content. \n",
    "# Determine prices for travel booking or comparison sites.\n",
    "# Find sales leads or conduct market research via public data sources.\n",
    "\n",
    "\n",
    "# Analyzing social media web data. Applying machine learning techniques. Gathering web data automatically.\n",
    "# Researching new concepts in a field"
   ]
  },
  {
   "cell_type": "raw",
   "id": "4ddbc473-6152-402c-88d1-96b093b1e9f5",
   "metadata": {},
   "source": [
    "# Q2. What are the different methods used for Web Scraping?\n",
    "\n",
    "# Data Scraping Techniques\n",
    "# HTML Parsing. HTML parsing involves the use of JavaScript to target a linear or nested HTML page. ...\n",
    "# DOM Parsing. ...\n",
    "# Vertical Aggregation. ...\n",
    "# XPath. ...\n",
    "# Google Sheets. ...\n",
    "# Rate Limit User Requests. ...\n",
    "# Mitigate High-Volume Requesters with CAPTCHAs. ...\n",
    "# Regularly Modify HTML Markup"
   ]
  },
  {
   "cell_type": "raw",
   "id": "d44c228a-444e-4511-b334-8dea1dea995a",
   "metadata": {},
   "source": [
    "# Q3. What is Beautiful Soup? Why is it used?\n",
    "#\n",
    "\n",
    "\n",
    "# Beautiful Soup is a Python package for parsing HTML and XML documents (including having malformed markup, i.e.\n",
    "# non-closed tags, so named after tag soup). It creates a parse tree for parsed pages that can be used to extract data from HTML,\n",
    "# which is useful for web scraping."
   ]
  },
  {
   "cell_type": "raw",
   "id": "e5b6cf22-9d35-4fc6-9e63-7ea78c8d1f65",
   "metadata": {},
   "source": [
    "# Q4. Why is flask used in this Web Scraping project?\n",
    "\n",
    "\n",
    "# Flask is a lightweight framework to build websites. \n",
    "# We'll use this to parse our collected data and display it as HTML in a new HTML file.\n",
    "# The requests module allows us to send http requests to the website we want to scrape. \n",
    "# The first line imports the Flask class and the render_template method from the flask library."
   ]
  },
  {
   "cell_type": "raw",
   "id": "d372f7b3-b56c-4d35-876f-72829e121f9a",
   "metadata": {},
   "source": [
    "Q5. Write the names of AWS services used in this project. Also, explain the use of each service.\n",
    "\n",
    "\n",
    "1. Amazon EC2 (Elastic Cloud Compute)\n",
    "Amazon EC2 is the fastest cloud computing service provided by AWS. \n",
    "It offers virtual, secure, reliable, and resizable servers for any workload.\n",
    "Through this service, it becomes easy for developers to access resources and also facilitates web-scale cloud computing\n",
    "\n",
    "2. Amazon RDS (Relational Database Services) \n",
    "Amazon RDS (Relational Database Service) is another service provided by AWS which is a managed database for PostgreSQL, MariaDB, MySQL, and Oracle.\n",
    "Using Amazon RDS, you can set up, operate, and scale databases in the cloud. It provides high performance by automating the tasks like database setup, \n",
    "hardware provisioning, patching, and backups\n",
    "\n",
    "3. Amazon S3 (Simple Storage Service)\n",
    "With Amazon, it has become easy to store data anytime, anywhere. Amazon S3 (Simple Storage Service),\n",
    "one of the best services provided by AWS is an object storage service offering scalability, availability, security, and high-performing\n",
    "\n",
    "\n",
    "4. Amazon IAM (Identity and Access Management)\n",
    "Amazon IAM (Identity and Access Management) allows users to securely access and manage resources. \n",
    "\n",
    "5. Amazon EBS (Elastic Block Store)\n",
    "Amazon EBS is the next service provided by AWS which is a block storage solution specifically designed for Amazon EC2."
   ]
  },
  {
   "cell_type": "code",
   "execution_count": null,
   "id": "198e40a7-c76d-49bd-ba6f-9c3832e47b65",
   "metadata": {},
   "outputs": [],
   "source": []
  }
 ],
 "metadata": {
  "kernelspec": {
   "display_name": "Python 3 (ipykernel)",
   "language": "python",
   "name": "python3"
  },
  "language_info": {
   "codemirror_mode": {
    "name": "ipython",
    "version": 3
   },
   "file_extension": ".py",
   "mimetype": "text/x-python",
   "name": "python",
   "nbconvert_exporter": "python",
   "pygments_lexer": "ipython3",
   "version": "3.10.8"
  }
 },
 "nbformat": 4,
 "nbformat_minor": 5
}
